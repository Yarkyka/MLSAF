{
  "cells": [
    {
      "cell_type": "markdown",
      "metadata": {
        "id": "view-in-github",
        "colab_type": "text"
      },
      "source": [
        "<a href=\"https://colab.research.google.com/github/Yarkyka/MLSAF/blob/main/Homework1_pandas_numpy.ipynb\" target=\"_parent\"><img src=\"https://colab.research.google.com/assets/colab-badge.svg\" alt=\"Open In Colab\"/></a>"
      ]
    },
    {
      "cell_type": "markdown",
      "metadata": {
        "id": "Sl5lqlDR3nB3"
      },
      "source": [
        "#**პრაქტიკული დავალება #1**\n",
        "**ნიმუში:**\n",
        "\n",
        "_ამოცანა:_ 1. შექმენით 2D მასივი და გაზარდეთ მისი თითოეული ელემენტი 10-ით.\n",
        "\n",
        "_ამოხსნა ჩაწერეთ კოდის უჯრაში და კომენტარებიც მიუწერეთ:_\n",
        "```python\n",
        "import numpy as np\n",
        "\n",
        "# შევქმნათ 2D მასივი\n",
        "arr = np.array([[1, 2, 3],\n",
        "                [4, 5, 6],\n",
        "                [7, 8, 9]])\n",
        "\n",
        "# გავზარდოთ თითოეული ელემენტი 10-ით\n",
        "result = arr + 10\n",
        "print(result)\n",
        "```"
      ]
    },
    {
      "cell_type": "markdown",
      "metadata": {
        "id": "mKzkrSFz5vCs"
      },
      "source": [
        "# Pandas-ის სავარჯიშოები"
      ]
    },
    {
      "cell_type": "markdown",
      "metadata": {
        "id": "rmjWB8hlFK9l"
      },
      "source": [
        "1. დააიმპორტეთ Pandas და შეამოწმეთ მისი ვერსია"
      ]
    },
    {
      "cell_type": "code",
      "execution_count": 1,
      "metadata": {
        "id": "tETXEO0_FK9l",
        "outputId": "708ec027-c147-4e2a-f26a-3c90a3c867bd",
        "colab": {
          "base_uri": "https://localhost:8080/"
        }
      },
      "outputs": [
        {
          "output_type": "stream",
          "name": "stdout",
          "text": [
            "1.25.2\n"
          ]
        }
      ],
      "source": [
        "import numpy as np\n",
        "print(np.__version__)\n"
      ]
    },
    {
      "cell_type": "markdown",
      "metadata": {
        "id": "xf1ofmu0FK9l"
      },
      "source": [
        "2. შექმენით პანდას მწკრივი (Pandas Series) NumPy მასივიდან 1-დან 10-მდე"
      ]
    },
    {
      "cell_type": "code",
      "execution_count": 2,
      "metadata": {
        "id": "FJ6igBxHFK9l",
        "outputId": "f1efc4c8-7ae1-46e0-a7ff-92f6bbd70e0f",
        "colab": {
          "base_uri": "https://localhost:8080/"
        }
      },
      "outputs": [
        {
          "output_type": "stream",
          "name": "stdout",
          "text": [
            "0     1\n",
            "1     2\n",
            "2     3\n",
            "3     4\n",
            "4     5\n",
            "5     6\n",
            "6     7\n",
            "7     8\n",
            "8     9\n",
            "9    10\n",
            "dtype: int64\n"
          ]
        }
      ],
      "source": [
        "import numpy as np\n",
        "import pandas as pd\n",
        "\n",
        "numpy_array = np.arange(1,11)\n",
        "series = pd.Series(numpy_array)\n",
        "\n",
        "print(series)"
      ]
    },
    {
      "cell_type": "markdown",
      "metadata": {
        "id": "V0JniSs1FK9m"
      },
      "source": [
        "3. ლექსიკონების სია (dictionary list) აქციეთ DataFrame-ად\n"
      ]
    },
    {
      "cell_type": "code",
      "execution_count": 3,
      "metadata": {
        "id": "FHVM6P7GFK9m",
        "outputId": "879c8016-7a6e-49e1-b37e-92d14a25967a",
        "colab": {
          "base_uri": "https://localhost:8080/"
        }
      },
      "outputs": [
        {
          "output_type": "stream",
          "name": "stdout",
          "text": [
            "     Name  Age\n",
            "0  Mariam   21\n",
            "1    Anna   22\n",
            "2    Alex   28\n"
          ]
        }
      ],
      "source": [
        "import pandas as pd\n",
        "\n",
        "data = [\n",
        "    {'Name': 'Mariam', 'Age': 21},\n",
        "    {'Name': 'Anna', 'Age': 22},\n",
        "    {'Name': 'Alex', 'Age': 28}\n",
        "]\n",
        "\n",
        "df = pd.DataFrame(data)\n",
        "\n",
        "print(df)"
      ]
    },
    {
      "cell_type": "markdown",
      "metadata": {
        "id": "aYYP0sGEFK9m"
      },
      "source": [
        "4. შექმენით 2 სტრიქონიანი DataFrame, რომელიც შეიცავს a, b და c სვეტებს. ამოირჩიეთ b სვეტი\n"
      ]
    },
    {
      "cell_type": "code",
      "execution_count": 4,
      "metadata": {
        "id": "7oxaE4pmFK9m",
        "outputId": "b9a48c58-93a0-45ee-9498-3e5a6931abc6",
        "colab": {
          "base_uri": "https://localhost:8080/"
        }
      },
      "outputs": [
        {
          "output_type": "stream",
          "name": "stdout",
          "text": [
            "0    3\n",
            "1    4\n",
            "Name: b, dtype: int64\n"
          ]
        }
      ],
      "source": [
        "import pandas as pd\n",
        "\n",
        "\n",
        "data = {\n",
        "    'a': [1,2],\n",
        "    'b': [3,4],\n",
        "    'c': [5,6]\n",
        "}\n",
        "\n",
        "df = pd.DataFrame(data)\n",
        "\n",
        "col_b = df['b']\n",
        "\n",
        "print(col_b)"
      ]
    },
    {
      "cell_type": "markdown",
      "metadata": {
        "id": "7K4p-RjnFK9m"
      },
      "source": [
        "**5**. DataFrame-ს დაამატეთ ახალი d სვეტი მნიშვნელობებით [100, 200]\n"
      ]
    },
    {
      "cell_type": "code",
      "execution_count": 20,
      "metadata": {
        "id": "07dN8Vu8FK9m",
        "outputId": "4d073603-dd20-491f-b552-09173e6c0cc2",
        "colab": {
          "base_uri": "https://localhost:8080/"
        }
      },
      "outputs": [
        {
          "output_type": "stream",
          "name": "stdout",
          "text": [
            "   a  b  c    d\n",
            "0  1  3  5  100\n",
            "1  2  4  6  200\n"
          ]
        }
      ],
      "source": [
        "import pandas as pd\n",
        "import numpy as np\n",
        "\n",
        "data = {\n",
        "    'a': [1, 2],\n",
        "    'b': [3, 4],\n",
        "    'c': [5, 6]\n",
        "}\n",
        "\n",
        "df = pd.DataFrame(data)\n",
        "\n",
        "df['d'] = np.linspace(100, 200, len(df), dtype=int)\n",
        "\n",
        "print(df)\n"
      ]
    },
    {
      "cell_type": "markdown",
      "metadata": {
        "id": "aS5SpQAQFK9n"
      },
      "source": [
        "6. წაშალეთ c სვეტი DataFrame-დან\n"
      ]
    },
    {
      "cell_type": "code",
      "execution_count": 21,
      "metadata": {
        "id": "4wU7uSfuFK9n",
        "outputId": "93e5eaa0-289e-4dd3-c3fb-5679da721717",
        "colab": {
          "base_uri": "https://localhost:8080/"
        }
      },
      "outputs": [
        {
          "output_type": "stream",
          "name": "stdout",
          "text": [
            "   a  b\n",
            "0  1  3\n",
            "1  2  4\n"
          ]
        }
      ],
      "source": [
        "import pandas as pd\n",
        "\n",
        "data = {\n",
        "    'a': [1, 2],\n",
        "    'b': [3, 4],\n",
        "    'c': [5, 6]\n",
        "}\n",
        "\n",
        "df = pd.DataFrame(data)\n",
        "\n",
        "df = df.drop('c', axis=1)\n",
        "\n",
        "print(df)\n"
      ]
    },
    {
      "cell_type": "markdown",
      "metadata": {
        "id": "SXEDhNnqFK9n"
      },
      "source": [
        "7. DataFrame-ის a სვეტს გადაარქვით სახელი a-დ rename მეთოდით"
      ]
    },
    {
      "cell_type": "code",
      "execution_count": 23,
      "metadata": {
        "id": "MZL_32ttFK9n",
        "outputId": "fa364df5-5086-44ca-f00c-8d6a8bece2ca",
        "colab": {
          "base_uri": "https://localhost:8080/"
        }
      },
      "outputs": [
        {
          "output_type": "stream",
          "name": "stdout",
          "text": [
            "   A  b  c\n",
            "0  1  3  5\n",
            "1  2  4  6\n"
          ]
        }
      ],
      "source": [
        "import pandas as pd\n",
        "\n",
        "data = {\n",
        "    'a': [1, 2],\n",
        "    'b': [3, 4],\n",
        "    'c': [5, 6]\n",
        "}\n",
        "\n",
        "df = pd.DataFrame(data)\n",
        "\n",
        "df.rename(columns={'a':'A'}, inplace=True)\n",
        "\n",
        "print(df)\n"
      ]
    },
    {
      "cell_type": "markdown",
      "metadata": {
        "id": "nChM1JGQFK9n"
      },
      "source": [
        "\n",
        "8. გაფილტრეთ DataFrame მხოლოდ იმ სტრიქონების საჩვენებლად, სადაც b > 3\n"
      ]
    },
    {
      "cell_type": "code",
      "execution_count": 24,
      "metadata": {
        "id": "7mhxgyMCFK9n",
        "outputId": "db0421c2-35a3-4000-f174-3f4fe7363b4d",
        "colab": {
          "base_uri": "https://localhost:8080/"
        }
      },
      "outputs": [
        {
          "output_type": "stream",
          "name": "stdout",
          "text": [
            "   a  b  c\n",
            "1  2  4  6\n"
          ]
        }
      ],
      "source": [
        "import pandas as pd\n",
        "\n",
        "data = {\n",
        "    'a': [1, 2],\n",
        "    'b': [3, 4],\n",
        "    'c': [5, 6]\n",
        "}\n",
        "\n",
        "df = pd.DataFrame(data)\n",
        "\n",
        "filtered_df = df[df['b']>3]\n",
        "\n",
        "print(filtered_df)"
      ]
    },
    {
      "cell_type": "markdown",
      "metadata": {
        "id": "1ecGjfGzFK9n"
      },
      "source": [
        "9. შექმენით DataFrame ცარიელი მნიშვნელობებით და შეავსეთ 0-ებით\n"
      ]
    },
    {
      "cell_type": "code",
      "execution_count": 25,
      "metadata": {
        "id": "RWsZmu4DFK9n",
        "outputId": "980aec42-5573-43a0-ab3a-6ad3405351f7",
        "colab": {
          "base_uri": "https://localhost:8080/"
        }
      },
      "outputs": [
        {
          "output_type": "stream",
          "name": "stdout",
          "text": [
            "DataFrame with empty values:\n",
            "    A   B   C\n",
            "0 NaN NaN NaN\n",
            "1 NaN NaN NaN\n",
            "2 NaN NaN NaN\n",
            "\n",
            "DataFrame filled with zeros:\n",
            "     A    B    C\n",
            "0  0.0  0.0  0.0\n",
            "1  0.0  0.0  0.0\n",
            "2  0.0  0.0  0.0\n"
          ]
        }
      ],
      "source": [
        "import pandas as pd\n",
        "import numpy as np\n",
        "\n",
        "df_empty = pd.DataFrame(np.nan, index=range(3), columns=['A', 'B', 'C'])\n",
        "\n",
        "df_filled = df_empty.fillna(0)\n",
        "\n",
        "print(\"DataFrame with empty values:\")\n",
        "print(df_empty)\n",
        "\n",
        "print(\"\\nDataFrame filled with zeros:\")\n",
        "print(df_filled)\n"
      ]
    },
    {
      "cell_type": "markdown",
      "metadata": {
        "id": "b1CDSiXGFK9n"
      },
      "source": [
        "10. სტრიქონების ინდექსი (df.index) აქციეთ DataFrame-ის სვეტად\n"
      ]
    },
    {
      "cell_type": "code",
      "execution_count": 26,
      "metadata": {
        "id": "J07oHFexFK9n",
        "outputId": "77bbc391-e641-4bc0-8246-e8b92b0bcbe9",
        "colab": {
          "base_uri": "https://localhost:8080/"
        }
      },
      "outputs": [
        {
          "output_type": "stream",
          "name": "stdout",
          "text": [
            "   index  A  B  C\n",
            "0      0  1  4  7\n",
            "1      1  2  5  8\n",
            "2      2  3  6  9\n"
          ]
        }
      ],
      "source": [
        "import pandas as pd\n",
        "\n",
        "data = {\n",
        "    'A': [1, 2, 3],\n",
        "    'B': [4, 5, 6],\n",
        "    'C': [7, 8, 9]\n",
        "}\n",
        "\n",
        "df = pd.DataFrame(data)\n",
        "\n",
        "df.reset_index(inplace=True)\n",
        "\n",
        "print(df)\n"
      ]
    },
    {
      "cell_type": "markdown",
      "metadata": {
        "id": "YCZWsojXFK9n"
      },
      "source": [
        "11. შექმენით DataFrame a, b, c, d სვეტებით, სადაც b სვეტს ექნება ტექსტური მნიშვნელობები, ხოლო დანარჩენებს - რიცხვითი. გამოთვალეთ რიცხვითი ველების საშუალო და დააჯგუფეთ b სვეტით"
      ]
    },
    {
      "cell_type": "code",
      "execution_count": 28,
      "metadata": {
        "id": "PFenib2aFK9n",
        "outputId": "5d6449d6-3a44-41e0-f10d-0b2913d174d7",
        "colab": {
          "base_uri": "https://localhost:8080/"
        }
      },
      "outputs": [
        {
          "output_type": "stream",
          "name": "stdout",
          "text": [
            "         a    c     d\n",
            "b                    \n",
            "text1  2.0  6.0  10.0\n",
            "text2  2.0  6.0  10.0\n",
            "text3  4.0  8.0  12.0\n"
          ]
        }
      ],
      "source": [
        "import pandas as pd\n",
        "\n",
        "data = {\n",
        "    'a': [1, 2, 3, 4],\n",
        "    'b': ['text1', 'text2', 'text1', 'text3'],\n",
        "    'c': [5, 6, 7, 8],\n",
        "    'd': [9, 10, 11, 12]\n",
        "}\n",
        "\n",
        "df = pd.DataFrame(data)\n",
        "\n",
        "average_grouped = df.groupby('b').mean()\n",
        "\n",
        "print(average_grouped)\n"
      ]
    },
    {
      "cell_type": "markdown",
      "metadata": {
        "id": "AfigB59qFK9o"
      },
      "source": [
        "\n",
        "12. დაალაგეთ (დაასორტირეთ) DataFrame b სვეტის მიხედვით კლებადი თანმიმდევრობით\n"
      ]
    },
    {
      "cell_type": "code",
      "execution_count": 29,
      "metadata": {
        "id": "G9z37uLgFK9o",
        "outputId": "3eac82ba-1cbd-4d37-b1f6-a360ea237a6f",
        "colab": {
          "base_uri": "https://localhost:8080/"
        }
      },
      "outputs": [
        {
          "output_type": "stream",
          "name": "stdout",
          "text": [
            "   a      b  c   d\n",
            "3  4  text3  8  12\n",
            "1  2  text2  6  10\n",
            "0  1  text1  5   9\n",
            "2  3  text1  7  11\n"
          ]
        }
      ],
      "source": [
        "import pandas as pd\n",
        "\n",
        "data = {\n",
        "    'a': [1, 2, 3, 4],\n",
        "    'b': ['text1', 'text2', 'text1', 'text3'],\n",
        "    'c': [5, 6, 7, 8],\n",
        "    'd': [9, 10, 11, 12]\n",
        "}\n",
        "\n",
        "df = pd.DataFrame(data)\n",
        "\n",
        "sorted_df = df.sort_values(by='b', ascending=False)\n",
        "\n",
        "print(sorted_df)"
      ]
    },
    {
      "cell_type": "markdown",
      "metadata": {
        "id": "MrRbi733FK9o"
      },
      "source": [
        "13. მოცემულია ლექსიკონი\n",
        "```python\n",
        "data = {\n",
        "    'a': ['foo', 'foo', 'foo', 'bar', 'bar', 'bar'],\n",
        "    'b': ['one', 'one', 'two', 'two', 'one', 'one'],\n",
        "    'd': [1, 2, 3, 4, 5, 6]\n",
        "}\n",
        "```\n",
        "data აქციეთ DataFrame-ად და შექმენით კრებსითი ცხრილი (pivot table) pivot_table მეთოდით, სადაც a იქნება ინდექსი, b - მაჯგუფებელი სვეტი, d - სვეტი, რომლის აგრეგირებაც გვინდა. აგრეგაციიფ ფუნქციებად გამოიყენეთ 'min', 'max', 'sum', 'mean'.\n"
      ]
    },
    {
      "cell_type": "code",
      "execution_count": 30,
      "metadata": {
        "id": "UTIUhXdDFK9o",
        "outputId": "1e9abc81-e127-4599-9e13-4941005dfd16",
        "colab": {
          "base_uri": "https://localhost:8080/"
        }
      },
      "outputs": [
        {
          "output_type": "stream",
          "name": "stdout",
          "text": [
            "    min     max     sum     mean     \n",
            "b   one two one two one two  one  two\n",
            "a                                    \n",
            "bar   5   4   6   4  11   4  5.5  4.0\n",
            "foo   1   3   2   3   3   3  1.5  3.0\n"
          ]
        }
      ],
      "source": [
        "import pandas as pd\n",
        "\n",
        "data = {\n",
        "'a': ['foo', 'foo', 'foo', 'bar', 'bar', 'bar'],\n",
        "'b': ['one', 'one', 'two', 'two', 'one', 'one'],\n",
        "'d': [1, 2, 3, 4, 5, 6]\n",
        "}\n",
        "\n",
        "df = pd.DataFrame(data)\n",
        "\n",
        "pivot_table = pd.pivot_table(df, values='d', index='a', columns='b', aggfunc=['min', 'max', 'sum', 'mean'])\n",
        "\n",
        "print(pivot_table)"
      ]
    },
    {
      "cell_type": "markdown",
      "metadata": {
        "id": "BjzGESL4FK9o"
      },
      "source": [
        "14. გააერთიანეთ ორი DataFrame-ის ვერტიკალურად concat მეთოდით\n"
      ]
    },
    {
      "cell_type": "code",
      "execution_count": 31,
      "metadata": {
        "id": "VcFRQlNPFK9o",
        "outputId": "421eb5bf-453c-4edf-b1f4-5511f46d4648",
        "colab": {
          "base_uri": "https://localhost:8080/"
        }
      },
      "outputs": [
        {
          "output_type": "stream",
          "name": "stdout",
          "text": [
            "   A   B\n",
            "0  1   4\n",
            "1  2   5\n",
            "2  3   6\n",
            "0  7  10\n",
            "1  8  11\n",
            "2  9  12\n"
          ]
        }
      ],
      "source": [
        "import pandas as pd\n",
        "\n",
        "data1 = {\n",
        "    'A': [1, 2, 3],\n",
        "    'B': [4, 5, 6]\n",
        "}\n",
        "df1 = pd.DataFrame(data1)\n",
        "\n",
        "data2 = {\n",
        "    'A': [7, 8, 9],\n",
        "    'B': [10, 11, 12]\n",
        "}\n",
        "df2 = pd.DataFrame(data2)\n",
        "\n",
        "merged_df = pd.concat([df1, df2], axis=0)\n",
        "\n",
        "print(merged_df)\n"
      ]
    },
    {
      "cell_type": "markdown",
      "metadata": {
        "id": "8EXbY91cFK9o"
      },
      "source": [
        "15. გააერთიანეთ ორი DataFrame-ის a სვეტის მიხედვით merge მეთოდით"
      ]
    },
    {
      "cell_type": "code",
      "execution_count": 32,
      "metadata": {
        "id": "35PEtDyzFK9o",
        "outputId": "abead4c6-a206-4ec0-bf8b-97878f481ccd",
        "colab": {
          "base_uri": "https://localhost:8080/"
        }
      },
      "outputs": [
        {
          "output_type": "stream",
          "name": "stdout",
          "text": [
            "     a  b  c\n",
            "0  foo  1  4\n",
            "1  bar  2  5\n"
          ]
        }
      ],
      "source": [
        "import pandas as pd\n",
        "\n",
        "data1 = {\n",
        "    'a': ['foo', 'bar', 'baz'],\n",
        "    'b': [1, 2, 3]\n",
        "}\n",
        "df1 = pd.DataFrame(data1)\n",
        "\n",
        "data2 = {\n",
        "    'a': ['foo', 'bar', 'qux'],\n",
        "    'c': [4, 5, 6]\n",
        "}\n",
        "df2 = pd.DataFrame(data2)\n",
        "\n",
        "combined_df = pd.merge(df1, df2, on='a')\n",
        "\n",
        "print(combined_df)\n"
      ]
    },
    {
      "cell_type": "markdown",
      "metadata": {
        "id": "o34PVYXUFK9o"
      },
      "source": [
        "16. DataFrame შეინახეთ CSV ფაილად\n"
      ]
    },
    {
      "cell_type": "code",
      "execution_count": 33,
      "metadata": {
        "id": "hY7Z5wHCFK9o",
        "outputId": "09b03053-696c-450b-faba-0479e1df688e",
        "colab": {
          "base_uri": "https://localhost:8080/"
        }
      },
      "outputs": [
        {
          "output_type": "stream",
          "name": "stdout",
          "text": [
            "DataFrame saved as 'data.csv'\n"
          ]
        }
      ],
      "source": [
        "import pandas as pd\n",
        "\n",
        "data = {\n",
        "    'A': [1, 2, 3],\n",
        "    'B': [4, 5, 6]\n",
        "}\n",
        "df = pd.DataFrame(data)\n",
        "\n",
        "df.to_csv('data.csv', index=False)\n",
        "\n",
        "print(\"DataFrame saved as 'data.csv'\")\n"
      ]
    },
    {
      "cell_type": "markdown",
      "metadata": {
        "id": "YOHvQLm0FK9o"
      },
      "source": [
        "17. წაიკითხეთ CSV ფაილი და შექმენით DataFrame"
      ]
    },
    {
      "cell_type": "code",
      "execution_count": 34,
      "metadata": {
        "id": "_IW8KwKRFK9o",
        "outputId": "b70387b6-7768-45f1-deca-e8184f010657",
        "colab": {
          "base_uri": "https://localhost:8080/"
        }
      },
      "outputs": [
        {
          "output_type": "stream",
          "name": "stdout",
          "text": [
            "   A  B\n",
            "0  1  4\n",
            "1  2  5\n",
            "2  3  6\n"
          ]
        }
      ],
      "source": [
        "import pandas as pd\n",
        "\n",
        "df = pd.read_csv('data.csv')\n",
        "\n",
        "print(df)\n"
      ]
    },
    {
      "cell_type": "markdown",
      "metadata": {
        "id": "1416Q5rCFK9p"
      },
      "source": [
        "\n",
        "18. გამოთვალეთ DataFrame-ის რიცხვითი სვეტების კორელაციის მატრიცა"
      ]
    },
    {
      "cell_type": "code",
      "execution_count": 35,
      "metadata": {
        "id": "ZglYPz-eFK9p",
        "outputId": "a12bcfce-6651-4175-810d-853813d37333",
        "colab": {
          "base_uri": "https://localhost:8080/"
        }
      },
      "outputs": [
        {
          "output_type": "stream",
          "name": "stdout",
          "text": [
            "Correlation Matrix:\n",
            "     A    B    C\n",
            "A  1.0  1.0  1.0\n",
            "B  1.0  1.0  1.0\n",
            "C  1.0  1.0  1.0\n"
          ]
        }
      ],
      "source": [
        "import pandas as pd\n",
        "\n",
        "data = {\n",
        "    'A': [1, 2, 3],\n",
        "    'B': [4, 5, 6],\n",
        "    'C': [7, 8, 9]\n",
        "}\n",
        "df = pd.DataFrame(data)\n",
        "\n",
        "correlation_matrix = df.corr()\n",
        "\n",
        "print(\"Correlation Matrix:\")\n",
        "print(correlation_matrix)\n"
      ]
    },
    {
      "cell_type": "markdown",
      "metadata": {
        "id": "kYMUccWMFK9p"
      },
      "source": [
        "19. DataFrame-დან წაშალეთ დუბლირებული სტრიქონები\n"
      ]
    },
    {
      "cell_type": "code",
      "execution_count": 36,
      "metadata": {
        "id": "5LSbVuPjFK9p",
        "outputId": "af2f82ce-3874-48f7-a31a-50b5fc701418",
        "colab": {
          "base_uri": "https://localhost:8080/"
        }
      },
      "outputs": [
        {
          "output_type": "stream",
          "name": "stdout",
          "text": [
            "DataFrame without duplicates:\n",
            "   A  B\n",
            "0  1  a\n",
            "1  2  b\n",
            "3  3  c\n",
            "4  4  d\n"
          ]
        }
      ],
      "source": [
        "import pandas as pd\n",
        "\n",
        "data = {\n",
        "    'A': [1, 2, 2, 3, 4, 4],\n",
        "    'B': ['a', 'b', 'b', 'c', 'd', 'd']\n",
        "}\n",
        "df = pd.DataFrame(data)\n",
        "\n",
        "df_no_duplicates = df.drop_duplicates()\n",
        "\n",
        "print(\"DataFrame without duplicates:\")\n",
        "print(df_no_duplicates)\n"
      ]
    },
    {
      "cell_type": "markdown",
      "metadata": {
        "id": "Acks3YOkFK9q"
      },
      "source": [
        "20. DataFrame-ის ყველა სტრიქონში კონკრეტული მნიშვნელობები ახლით ჩაანაცვლეთ\n"
      ]
    },
    {
      "cell_type": "code",
      "execution_count": 37,
      "metadata": {
        "id": "IdofcQtQFK9q",
        "outputId": "94631af5-7233-4776-aaa8-0b0162221744",
        "colab": {
          "base_uri": "https://localhost:8080/"
        }
      },
      "outputs": [
        {
          "output_type": "stream",
          "name": "stdout",
          "text": [
            "DataFrame after replacing specific values:\n",
            "    A  B\n",
            "0  10  a\n",
            "1   2  x\n",
            "2   3  c\n",
            "3   4  d\n",
            "4   5  e\n"
          ]
        }
      ],
      "source": [
        "import pandas as pd\n",
        "\n",
        "data = {\n",
        "    'A': [1, 2, 3, 4, 5],\n",
        "    'B': ['a', 'b', 'c', 'd', 'e']\n",
        "}\n",
        "df = pd.DataFrame(data)\n",
        "\n",
        "df.replace({1: 10, 'b': 'x'}, inplace=True)\n",
        "\n",
        "print(\"DataFrame after replacing specific values:\")\n",
        "print(df)\n"
      ]
    },
    {
      "cell_type": "markdown",
      "metadata": {
        "id": "NomhGp7FFK9q"
      },
      "source": [
        "21. ცხრილის d სვეტის ყველა ჩანაწერი აიყვანეთ კვადრატში. გამოიყენეთ lambda ფუნქცია apply მეთოდით"
      ]
    },
    {
      "cell_type": "code",
      "execution_count": 38,
      "metadata": {
        "id": "Po-NrXr9FK9q",
        "outputId": "3150cda6-2798-4604-a19e-7253898e1d99",
        "colab": {
          "base_uri": "https://localhost:8080/"
        }
      },
      "outputs": [
        {
          "output_type": "stream",
          "name": "stdout",
          "text": [
            "DataFrame after squaring all entries in column 'd':\n",
            "   A  B   d\n",
            "0  1  a   4\n",
            "1  2  b   9\n",
            "2  3  c  16\n",
            "3  4  d  25\n",
            "4  5  e  36\n"
          ]
        }
      ],
      "source": [
        "import pandas as pd\n",
        "\n",
        "data = {\n",
        "    'A': [1, 2, 3, 4, 5],\n",
        "    'B': ['a', 'b', 'c', 'd', 'e'],\n",
        "    'd': [2, 3, 4, 5, 6]\n",
        "}\n",
        "df = pd.DataFrame(data)\n",
        "\n",
        "df['d'] = df['d'].apply(lambda x: x**2)\n",
        "\n",
        "print(\"DataFrame after squaring all entries in column 'd':\")\n",
        "print(df)\n"
      ]
    },
    {
      "cell_type": "markdown",
      "metadata": {
        "id": "Mc_tSHRhFK9q"
      },
      "source": [
        "22. მოცემულია ცხრილი:\n",
        "```python\n",
        "df = pd.DataFrame({\n",
        "    'date': ['2021-01-01', '2022-02-15', '2023-03-23'],\n",
        "    'event': ['New Year', 'Valentine', 'Anniversary']\n",
        "})\n",
        "```\n",
        "date სვეტი სტრიქონების მონაცემთა ტიპიდან (string) გარდაქმენით datetime-ად. გამოიყენეთ to_datetime მეთოდი.\n"
      ]
    },
    {
      "cell_type": "code",
      "execution_count": 39,
      "metadata": {
        "id": "sj3k506nFK9q",
        "outputId": "f2e9f6cb-f227-4f61-9f72-93639795435f",
        "colab": {
          "base_uri": "https://localhost:8080/"
        }
      },
      "outputs": [
        {
          "output_type": "stream",
          "name": "stdout",
          "text": [
            "        date        event\n",
            "0 2021-01-01     New Year\n",
            "1 2022-02-15    Valentine\n",
            "2 2023-03-23  Anniversary\n"
          ]
        }
      ],
      "source": [
        "import pandas as pd\n",
        "\n",
        "df = pd.DataFrame({\n",
        "    'date': ['2021-01-01', '2022-02-15', '2023-03-23'],\n",
        "    'event': ['New Year', 'Valentine', 'Anniversary']\n",
        "})\n",
        "\n",
        "df['date'] = pd.to_datetime(df['date'])\n",
        "\n",
        "print(df)\n"
      ]
    },
    {
      "cell_type": "markdown",
      "metadata": {
        "id": "FFDdbY8RFK9q"
      },
      "source": [
        "23. მოცემულია ცხრილი:\n",
        "```python\n",
        "    'a': [1, 2, np.nan, 4],\n",
        "    'b': [np.nan, 2, 3, 4],\n",
        "    'c': [np.nan, 2, 3, np.nan]\n",
        "})\n",
        "```\n",
        "ცხრილის თითოეულ სვეტში დათვალეთ ცარიელი ჩანაწერების რაოდენობა\n"
      ]
    },
    {
      "cell_type": "code",
      "execution_count": 40,
      "metadata": {
        "id": "yKFcS_UGFK9q",
        "outputId": "0d0f29c9-77e8-478c-8916-3703d0101f9a",
        "colab": {
          "base_uri": "https://localhost:8080/"
        }
      },
      "outputs": [
        {
          "output_type": "stream",
          "name": "stdout",
          "text": [
            "Number of blank entries in each column:\n",
            "a    1\n",
            "b    1\n",
            "c    2\n",
            "dtype: int64\n"
          ]
        }
      ],
      "source": [
        "import pandas as pd\n",
        "import numpy as np\n",
        "\n",
        "data = {\n",
        "    'a': [1, 2, np.nan, 4],\n",
        "    'b': [np.nan, 2, 3, 4],\n",
        "    'c': [np.nan, 2, 3, np.nan]\n",
        "}\n",
        "df = pd.DataFrame(data)\n",
        "\n",
        "blank_counts = df.isna().sum()\n",
        "\n",
        "print(\"Number of blank entries in each column:\")\n",
        "print(blank_counts)\n"
      ]
    },
    {
      "cell_type": "markdown",
      "metadata": {
        "id": "X-fBF-5zFK9q"
      },
      "source": [
        "24. მოცემულია ცხრილი:\n",
        "```python\n",
        "df = pd.DataFrame({\n",
        "    'a': [1, 2, 3, 4, 5, 6],\n",
        "    'b': ['x', np.nan, 'y', 'z', np.nan, np.nan],  # Note the NaN value in 'b'\n",
        "    'c': [0.1, 0.2, np.nan, 0.4, 0.8, 1.5]\n",
        "})\n",
        "```\n",
        "წაშალეთ ყველა ის სტრიქონი, სადაც b სვეტში ცარიელი მნიშვნელობებია\n"
      ]
    },
    {
      "cell_type": "code",
      "execution_count": 41,
      "metadata": {
        "id": "bPMxm1hzFK9q",
        "outputId": "d5928107-58be-4dab-ecd4-0d888a1b42dc",
        "colab": {
          "base_uri": "https://localhost:8080/"
        }
      },
      "outputs": [
        {
          "output_type": "stream",
          "name": "stdout",
          "text": [
            "DataFrame after deleting rows with blank values in column 'b':\n",
            "   a  b    c\n",
            "0  1  x  0.1\n",
            "2  3  y  NaN\n",
            "3  4  z  0.4\n"
          ]
        }
      ],
      "source": [
        "import pandas as pd\n",
        "import numpy as np\n",
        "\n",
        "df = pd.DataFrame({\n",
        "    'a': [1, 2, 3, 4, 5, 6],\n",
        "    'b': ['x', np.nan, 'y', 'z', np.nan, np.nan],\n",
        "    'c': [0.1, 0.2, np.nan, 0.4, 0.8, 1.5]\n",
        "})\n",
        "\n",
        "df_cleaned = df.dropna(subset=['b'])\n",
        "\n",
        "print(\"DataFrame after deleting rows with blank values in column 'b':\")\n",
        "print(df_cleaned)\n"
      ]
    },
    {
      "cell_type": "markdown",
      "metadata": {
        "id": "FPsvDrG9FK9r"
      },
      "source": [
        "\n",
        "25. მოცემულია ცხრილი:\n",
        "```python\n",
        "df = pd.DataFrame({\n",
        "    'a': [1, 2, 3, 4],\n",
        "    'd': [-1, 2, -3, 4]\n",
        "})\n",
        "```\n",
        "d სვეტში უარყოფითი მნიშვნელობები ჩაანაცვლეთ სვეტის საშუალოთი. გამოიყენეთ apply მეთოდი\n"
      ]
    },
    {
      "cell_type": "code",
      "execution_count": 42,
      "metadata": {
        "id": "47ZBdqG5FK9r",
        "outputId": "9177ef64-2892-4fb4-b7d6-02b12745a348",
        "colab": {
          "base_uri": "https://localhost:8080/"
        }
      },
      "outputs": [
        {
          "output_type": "stream",
          "name": "stdout",
          "text": [
            "DataFrame after replacing negative values in column 'd' with the column mean:\n",
            "   a    d\n",
            "0  1  0.5\n",
            "1  2  2.0\n",
            "2  3  0.5\n",
            "3  4  4.0\n"
          ]
        }
      ],
      "source": [
        "import pandas as pd\n",
        "\n",
        "df = pd.DataFrame({\n",
        "    'a': [1, 2, 3, 4],\n",
        "    'd': [-1, 2, -3, 4]\n",
        "})\n",
        "\n",
        "column_mean = df['d'].mean()\n",
        "\n",
        "df['d'] = df['d'].apply(lambda x: x if x >= 0 else column_mean)\n",
        "\n",
        "print(\"DataFrame after replacing negative values in column 'd' with the column mean:\")\n",
        "print(df)\n"
      ]
    },
    {
      "cell_type": "markdown",
      "metadata": {
        "id": "lEjxDcAtFK9r"
      },
      "source": [
        "26. მოცემულია ცხრილი:\n",
        "```python\n",
        "df = pd.DataFrame({\n",
        "    'A': [1, 2, 2, 3, 3, 3],\n",
        "    'B': ['a', 'b', 'b', 'c', 'c', 'c'],\n",
        "    'C': [True, True, False, False, True, False]\n",
        "})\n",
        "```\n",
        "დათვალეთ თითოეული სვეტის უნიკალური მნიშვნელობები\n"
      ]
    },
    {
      "cell_type": "code",
      "execution_count": 44,
      "metadata": {
        "id": "tGSm1pMeFK9r",
        "outputId": "eab53901-e1f2-430a-8dfd-7843a73991e8",
        "colab": {
          "base_uri": "https://localhost:8080/"
        }
      },
      "outputs": [
        {
          "output_type": "stream",
          "name": "stdout",
          "text": [
            "Unique values count of each column:\n",
            "A    3\n",
            "B    3\n",
            "C    2\n",
            "dtype: int64\n"
          ]
        }
      ],
      "source": [
        "import pandas as pd\n",
        "\n",
        "df = pd.DataFrame({\n",
        "    'A': [1, 2, 2, 3, 3, 3],\n",
        "    'B': ['a', 'b', 'b', 'c', 'c', 'c'],\n",
        "    'C': [True, True, False, False, True, False]\n",
        "})\n",
        "\n",
        "unique_counts = df.nunique()\n",
        "\n",
        "print(\"Unique values count of each column:\")\n",
        "print(unique_counts)\n"
      ]
    },
    {
      "cell_type": "markdown",
      "metadata": {
        "id": "5v6NIj8FFK9r"
      },
      "source": [
        "\n",
        "27. მოცემულია ცხრილი:\n",
        "```python\n",
        "df = pd.DataFrame({\n",
        "    'a': [1, 2, 3, 4, 5, 6],\n",
        "    'b': ['one', 'two', 'three', 'four', 'five', 'six']\n",
        "})\n",
        "```\n",
        "\n",
        "აირჩიეთ სტრიქონები, სადაც a სვეტის მნიშვნელობებია 1, 3, 5\n"
      ]
    },
    {
      "cell_type": "code",
      "execution_count": 45,
      "metadata": {
        "id": "3Th4qijfFK9r",
        "outputId": "dd94e54f-b4dd-4e2e-c1c3-7e6ac29980d7",
        "colab": {
          "base_uri": "https://localhost:8080/"
        }
      },
      "outputs": [
        {
          "output_type": "stream",
          "name": "stdout",
          "text": [
            "Selected rows:\n",
            "   a      b\n",
            "0  1    one\n",
            "2  3  three\n",
            "4  5   five\n"
          ]
        }
      ],
      "source": [
        "import pandas as pd\n",
        "\n",
        "df = pd.DataFrame({\n",
        "    'a': [1, 2, 3, 4, 5, 6],\n",
        "    'b': ['one', 'two', 'three', 'four', 'five', 'six']\n",
        "})\n",
        "\n",
        "selected_rows = df[df['a'].isin([1, 3, 5])]\n",
        "\n",
        "print(\"Selected rows:\")\n",
        "print(selected_rows)\n"
      ]
    },
    {
      "cell_type": "markdown",
      "metadata": {
        "id": "dNVhwtilFK9r"
      },
      "source": [
        "28. მოცემულია ცხრილი:\n",
        "```python\n",
        "df = pd.DataFrame({\n",
        "    'a': [1, 2, 3, 4, 5],\n",
        "    'b': ['A', 'B', 'C', 'D', 'E'],\n",
        "    'c': [10, 20, 15, 10, 5],\n",
        "    'd': [0.1, 0.2, 0.6, 0.3, 0.2]  # ეს უნდა დარანჟირდეს\n",
        "})\n",
        "```\n",
        "შექმენით f სვეტი, როგორც d სვეტის რანგი. გამოიყენეთ rank მეთოდი\n"
      ]
    },
    {
      "cell_type": "code",
      "execution_count": 46,
      "metadata": {
        "id": "tWEmworJFK9r",
        "outputId": "22efde89-8ecd-4afd-a69c-40c4d7dbcd92",
        "colab": {
          "base_uri": "https://localhost:8080/"
        }
      },
      "outputs": [
        {
          "output_type": "stream",
          "name": "stdout",
          "text": [
            "DataFrame with column 'f' as the rank of column 'd':\n",
            "   a  b   c    d    f\n",
            "0  1  A  10  0.1  1.0\n",
            "1  2  B  20  0.2  2.5\n",
            "2  3  C  15  0.6  5.0\n",
            "3  4  D  10  0.3  4.0\n",
            "4  5  E   5  0.2  2.5\n"
          ]
        }
      ],
      "source": [
        "import pandas as pd\n",
        "\n",
        "df = pd.DataFrame({\n",
        "    'a': [1, 2, 3, 4, 5],\n",
        "    'b': ['A', 'B', 'C', 'D', 'E'],\n",
        "    'c': [10, 20, 15, 10, 5],\n",
        "    'd': [0.1, 0.2, 0.6, 0.3, 0.2]\n",
        "})\n",
        "\n",
        "df['f'] = df['d'].rank()\n",
        "\n",
        "print(\"DataFrame with column 'f' as the rank of column 'd':\")\n",
        "print(df)\n"
      ]
    },
    {
      "cell_type": "markdown",
      "metadata": {
        "id": "fCLI_Y5mFK9r"
      },
      "source": [
        "\n",
        "29. მოცემულია ცხრილი:\n",
        "```python\n",
        "df = pd.DataFrame({\n",
        "    'a': [3, 1, 2, 4],\n",
        "    'b': ['C', 'A', 'B', 'D'], #მეორეხარისხოვანი ველი რანჟირებისას\n",
        "    'd': [2, 1, 2, 1]  # პრიორიტეტული ველი რანჟირებისას\n",
        "})\n",
        "```\n",
        "დაალაგეთ ცხრილი d და b სვეტების მიხედვით ზრდადი თანმიმდევრობით"
      ]
    },
    {
      "cell_type": "code",
      "execution_count": 48,
      "metadata": {
        "id": "G3YaI4b5FK9s",
        "outputId": "66664eaa-6dfa-4e97-c282-f3afa0a5509c",
        "colab": {
          "base_uri": "https://localhost:8080/"
        }
      },
      "outputs": [
        {
          "output_type": "stream",
          "name": "stdout",
          "text": [
            "DataFrame sorted by columns 'd' and 'b' in ascending order:\n",
            "   a  b  d\n",
            "1  1  A  1\n",
            "3  4  D  1\n",
            "2  2  B  2\n",
            "0  3  C  2\n"
          ]
        }
      ],
      "source": [
        "import pandas as pd\n",
        "\n",
        "df = pd.DataFrame({\n",
        "    'a': [3, 1, 2, 4],\n",
        "    'b': ['C', 'A', 'B', 'D'],\n",
        "    'd': [2, 1, 2, 1]\n",
        "})\n",
        "\n",
        "sorted_df = df.sort_values(by=['d', 'b'], ascending=True)\n",
        "\n",
        "print(\"DataFrame sorted by columns 'd' and 'b' in ascending order:\")\n",
        "print(sorted_df)\n"
      ]
    },
    {
      "cell_type": "markdown",
      "metadata": {
        "id": "EVzHdnr2FK9s"
      },
      "source": [
        "\n",
        "30. მოცემულია ცხრილი:\n",
        "```python\n",
        "df = pd.DataFrame({\n",
        "    'b': ['A', 'B', 'C', 'D', 'E'],\n",
        "    'd': [1, np.nan, 3, np.nan, 5]  # შეიცავს ცარიელ ჩანაწერებს\n",
        "})\n",
        "```\n",
        "შეავსეთ d სვეტის ცარიელი ჩანაწერები სვეტის მედიანით.\n",
        "გამოიყენეთ fillna და median მეთოდები\n",
        "\n",
        "\n",
        "\n",
        "\n",
        "\n",
        "\n",
        "\n",
        "\n",
        "\n",
        "\n",
        "\n",
        "\n",
        "\n",
        "\n",
        "\n",
        "\n",
        "\n",
        "\n",
        "\n",
        "\n"
      ]
    },
    {
      "cell_type": "code",
      "execution_count": null,
      "metadata": {
        "id": "dBoY_TanFK9s"
      },
      "outputs": [],
      "source": [
        "import pandas as pd\n",
        "import numpy as np\n",
        "\n",
        "df = pd.DataFrame({\n",
        "    'b': ['A', 'B', 'C', 'D', 'E'],\n",
        "    'd': [1, np.nan, 3, np.nan, 5]\n",
        "})\n",
        "\n",
        "median_d = df['d'].median()\n",
        "df['d'] = df['d'].fillna(median_d)\n",
        "\n",
        "print(\"DataFrame with blank entries in column 'd' filled with the column median:\")\n",
        "print(df)\n"
      ]
    },
    {
      "cell_type": "markdown",
      "metadata": {
        "id": "rzboJISA4_o5"
      },
      "source": [
        "# NumPy სავარჯიშოები\n"
      ]
    },
    {
      "cell_type": "markdown",
      "metadata": {
        "id": "ZVN8GXFOFK9s"
      },
      "source": [
        "1. დააიმპორტეთ NumPy როგორც np და შეამოწმეთ ვერსია\n"
      ]
    },
    {
      "cell_type": "code",
      "execution_count": 49,
      "metadata": {
        "id": "GHkASFYoFK9s",
        "outputId": "a892da15-2ded-4750-9127-906867bf0d1c",
        "colab": {
          "base_uri": "https://localhost:8080/"
        }
      },
      "outputs": [
        {
          "output_type": "stream",
          "name": "stdout",
          "text": [
            "NumPy version: 1.25.2\n"
          ]
        }
      ],
      "source": [
        "import numpy as np\n",
        "\n",
        "print(\"NumPy version:\", np.__version__)\n"
      ]
    },
    {
      "cell_type": "markdown",
      "metadata": {
        "id": "ltVnRkHmFK9s"
      },
      "source": [
        "2. შექმენით 1D (1-განზომილებიანი) მასივი 0-დან 9-მდე რიცხვებით\n"
      ]
    },
    {
      "cell_type": "code",
      "execution_count": 50,
      "metadata": {
        "id": "7-z4pMO8FK9s",
        "outputId": "689b6034-e12e-46f5-d4b7-93cbb376d18b",
        "colab": {
          "base_uri": "https://localhost:8080/"
        }
      },
      "outputs": [
        {
          "output_type": "stream",
          "name": "stdout",
          "text": [
            "1D array: [0 1 2 3 4 5 6 7 8 9]\n"
          ]
        }
      ],
      "source": [
        "arr_1d = np.arange(10)\n",
        "print(\"1D array:\", arr_1d)"
      ]
    },
    {
      "cell_type": "markdown",
      "metadata": {
        "id": "L29fzF6ZFK9s"
      },
      "source": [
        "3. შექმენით 3x3 numpy მასივი, რომელიც შედგება მხოლოდ True-ებისგან\n"
      ]
    },
    {
      "cell_type": "code",
      "execution_count": 51,
      "metadata": {
        "id": "XfMjFoXPFK9s",
        "outputId": "bf4bde19-301b-49ba-ad8f-6d5f85eea4be",
        "colab": {
          "base_uri": "https://localhost:8080/"
        }
      },
      "outputs": [
        {
          "output_type": "stream",
          "name": "stdout",
          "text": [
            "3x3 array of Trues:\n",
            " [[ True  True  True]\n",
            " [ True  True  True]\n",
            " [ True  True  True]]\n"
          ]
        }
      ],
      "source": [
        "arr_true = np.ones((3, 3), dtype=bool)\n",
        "print(\"3x3 array of Trues:\\n\", arr_true)"
      ]
    },
    {
      "cell_type": "markdown",
      "metadata": {
        "id": "AtlglAdcFK9s"
      },
      "source": [
        "4. შექმენით 1-10 მასივი და ამოიღეთ ყველა კენტი რიცხვი\n"
      ]
    },
    {
      "cell_type": "code",
      "execution_count": 53,
      "metadata": {
        "id": "4i-MjfI9FK9t",
        "outputId": "10039e89-8a89-4dfc-bfc2-2bf0527b8435",
        "colab": {
          "base_uri": "https://localhost:8080/"
        }
      },
      "outputs": [
        {
          "output_type": "stream",
          "name": "stdout",
          "text": [
            "Array with even numbers only: [ 2  4  6  8 10]\n"
          ]
        }
      ],
      "source": [
        "arr_1_to_10 = np.arange(1, 11)\n",
        "arr_even = arr_1_to_10[arr_1_to_10 % 2 == 0]\n",
        "print(\"Array with even numbers only:\", arr_even)"
      ]
    },
    {
      "cell_type": "markdown",
      "metadata": {
        "id": "q5EHuW6KFK9t"
      },
      "source": [
        "5. ჩაანაცვლეთ ყველა კენტი რიცხვი 1-10 მასივში -1 მნიშვნელობით\n"
      ]
    },
    {
      "cell_type": "code",
      "execution_count": 54,
      "metadata": {
        "id": "ausb3Pr-FK9t",
        "outputId": "bc4b5d62-c936-4418-f72e-04a93651b2f0",
        "colab": {
          "base_uri": "https://localhost:8080/"
        }
      },
      "outputs": [
        {
          "output_type": "stream",
          "name": "stdout",
          "text": [
            "Array with odd numbers replaced by -1: [-1  2 -1  4 -1  6 -1  8 -1 10]\n"
          ]
        }
      ],
      "source": [
        "arr_replaced = np.where(arr_1_to_10 % 2 != 0, -1, arr_1_to_10)\n",
        "print(\"Array with odd numbers replaced by -1:\", arr_replaced)"
      ]
    },
    {
      "cell_type": "markdown",
      "metadata": {
        "id": "G7WPFmHlFK9t"
      },
      "source": [
        "6. გარდაქმენით 1D მასივი 2-სვეტიან 2D მასივად\n"
      ]
    },
    {
      "cell_type": "code",
      "execution_count": 55,
      "metadata": {
        "id": "b7mhBtO4FK9t",
        "outputId": "02d8fd52-bbca-4a31-d786-d8f87b54c5ab",
        "colab": {
          "base_uri": "https://localhost:8080/"
        }
      },
      "outputs": [
        {
          "output_type": "stream",
          "name": "stdout",
          "text": [
            "2D array:\n",
            " [[0 1]\n",
            " [2 3]\n",
            " [4 5]\n",
            " [6 7]\n",
            " [8 9]]\n"
          ]
        }
      ],
      "source": [
        "arr_2d = arr_1d.reshape(-1, 2)\n",
        "print(\"2D array:\\n\", arr_2d)"
      ]
    },
    {
      "cell_type": "markdown",
      "metadata": {
        "id": "N7_zLH_aFK9t"
      },
      "source": [
        "7. ვერტიკალურად დააწყვეთ ერთმანეთზე ორი მასივი a და b. გამოიყენეთ vstack მეთოდი\n"
      ]
    },
    {
      "cell_type": "code",
      "execution_count": 56,
      "metadata": {
        "id": "24kFFaljFK9t",
        "outputId": "c1b7c3db-7c74-4311-e91d-7650a99dcce4",
        "colab": {
          "base_uri": "https://localhost:8080/"
        }
      },
      "outputs": [
        {
          "output_type": "stream",
          "name": "stdout",
          "text": [
            "Stacked vertically:\n",
            " [[ 1  2  3]\n",
            " [ 4  5  6]\n",
            " [ 7  8  9]\n",
            " [10 11 12]]\n"
          ]
        }
      ],
      "source": [
        "a = np.array([[1, 2, 3],\n",
        "              [4, 5, 6]])\n",
        "b = np.array([[7, 8, 9],\n",
        "              [10, 11, 12]])\n",
        "stacked_vertical = np.vstack((a, b))\n",
        "print(\"Stacked vertically:\\n\", stacked_vertical)\n"
      ]
    },
    {
      "cell_type": "markdown",
      "metadata": {
        "id": "fgUz1y2AFK9t"
      },
      "source": [
        "8. ჰორიზონტალურად ერთმანეთს მიუწყვეთ ორი მასივი a და b. გამოიყენეთ hstack მეთოდი\n"
      ]
    },
    {
      "cell_type": "code",
      "execution_count": 57,
      "metadata": {
        "id": "LXhND6NIFK9t",
        "outputId": "c78bdbda-dfca-46cc-e3e4-055d4ec34376",
        "colab": {
          "base_uri": "https://localhost:8080/"
        }
      },
      "outputs": [
        {
          "output_type": "stream",
          "name": "stdout",
          "text": [
            "Stacked horizontally:\n",
            " [[1 2 5 6]\n",
            " [3 4 7 8]]\n"
          ]
        }
      ],
      "source": [
        "a = np.array([[1, 2],\n",
        "              [3, 4]])\n",
        "b = np.array([[5, 6],\n",
        "              [7, 8]])\n",
        "stacked_horizontal = np.hstack((a, b))\n",
        "print(\"Stacked horizontally:\\n\", stacked_horizontal)"
      ]
    },
    {
      "cell_type": "markdown",
      "metadata": {
        "id": "_1VulmYXFK9t"
      },
      "source": [
        "\n",
        "9. შექმენით 5x5 ფორმის 2D მასივი, რომელსაც აქვს განაპირა ელემენტებად აქვს 1 და შიდა ელემენტებად 0\n",
        " ```python\n",
        " array([[1., 1., 1., 1., 1.],\n",
        "       [1., 0., 0., 0., 1.],\n",
        "       [1., 0., 0., 0., 1.],\n",
        "       [1., 0., 0., 0., 1.],\n",
        "       [1., 1., 1., 1., 1.]])\n",
        "```\n"
      ]
    },
    {
      "cell_type": "code",
      "execution_count": 58,
      "metadata": {
        "id": "SPGpRVxDFK9t",
        "outputId": "47e60178-14f9-435b-cb2d-bc7e21143668",
        "colab": {
          "base_uri": "https://localhost:8080/"
        }
      },
      "outputs": [
        {
          "output_type": "stream",
          "name": "stdout",
          "text": [
            "2D array with border elements of 1 and inner elements of 0:\n",
            " [[1. 1. 1. 1. 1.]\n",
            " [1. 0. 0. 0. 1.]\n",
            " [1. 0. 0. 0. 1.]\n",
            " [1. 0. 0. 0. 1.]\n",
            " [1. 1. 1. 1. 1.]]\n"
          ]
        }
      ],
      "source": [
        "arr_border_inner = np.ones((5, 5))\n",
        "arr_border_inner[1:-1, 1:-1] = 0\n",
        "print(\"2D array with border elements of 1 and inner elements of 0:\\n\", arr_border_inner)\n"
      ]
    },
    {
      "cell_type": "markdown",
      "metadata": {
        "id": "zNKKq6ArFK9t"
      },
      "source": [
        "\n",
        "10. შექმენით 8x8 მატრიცა და შეავსეთ იგი ჭადრაკის დაფისებურად\n",
        " ```python\n",
        " array([[0, 1, 0, 1, 0, 1, 0, 1],\n",
        "       [1, 0, 1, 0, 1, 0, 1, 0],\n",
        "       [0, 1, 0, 1, 0, 1, 0, 1],\n",
        "       [1, 0, 1, 0, 1, 0, 1, 0],\n",
        "       [0, 1, 0, 1, 0, 1, 0, 1],\n",
        "       [1, 0, 1, 0, 1, 0, 1, 0],\n",
        "       [0, 1, 0, 1, 0, 1, 0, 1],\n",
        "       [1, 0, 1, 0, 1, 0, 1, 0]])\n",
        " ```\n",
        "\n"
      ]
    },
    {
      "cell_type": "code",
      "execution_count": 59,
      "metadata": {
        "id": "0FnERkg6FK9u",
        "outputId": "3a5cd2bf-c97b-454b-f1ea-e39c64aaf54c",
        "colab": {
          "base_uri": "https://localhost:8080/"
        }
      },
      "outputs": [
        {
          "output_type": "stream",
          "name": "stdout",
          "text": [
            "Checkerboard matrix:\n",
            " [[0 1 0 1 0 1 0 1]\n",
            " [1 0 1 0 1 0 1 0]\n",
            " [0 1 0 1 0 1 0 1]\n",
            " [1 0 1 0 1 0 1 0]\n",
            " [0 1 0 1 0 1 0 1]\n",
            " [1 0 1 0 1 0 1 0]\n",
            " [0 1 0 1 0 1 0 1]\n",
            " [1 0 1 0 1 0 1 0]]\n"
          ]
        }
      ],
      "source": [
        "checkerboard = np.zeros((8, 8), dtype=int)\n",
        "checkerboard[1::2, ::2] = 1\n",
        "checkerboard[::2, 1::2] = 1\n",
        "print(\"Checkerboard matrix:\\n\", checkerboard)"
      ]
    },
    {
      "cell_type": "markdown",
      "metadata": {
        "id": "ZZ69Yc1KFK9u"
      },
      "source": [
        "11. შექმენით 30 ზომის შემთხვევითი ვექტორი და იპოვეთ საშუალო მნიშვნელობა. გამოიყენეთ random და mean მეთოდები"
      ]
    },
    {
      "cell_type": "code",
      "execution_count": 60,
      "metadata": {
        "id": "8K3zGQeOFK9u",
        "outputId": "b8500b30-63aa-4b44-ed8b-ae1a70eaf689",
        "colab": {
          "base_uri": "https://localhost:8080/"
        }
      },
      "outputs": [
        {
          "output_type": "stream",
          "name": "stdout",
          "text": [
            "Mean value of the random vector: 0.5965748265001809\n"
          ]
        }
      ],
      "source": [
        "random_vector = np.random.rand(30)\n",
        "mean_value = np.mean(random_vector)\n",
        "print(\"Mean value of the random vector:\", mean_value)\n"
      ]
    },
    {
      "cell_type": "markdown",
      "metadata": {
        "id": "l29aOwcBFK9u"
      },
      "source": [
        "12. შექმენით შემდეგი მატრიცა. გამოიყენეთ diag მეთოდი\n",
        " ```python\n",
        " array([[0, 0, 0, 0, 0],\n",
        "       [1, 0, 0, 0, 0],\n",
        "       [0, 2, 0, 0, 0],\n",
        "       [0, 0, 3, 0, 0],\n",
        "       [0, 0, 0, 4, 0]])\n",
        " ```\n"
      ]
    },
    {
      "cell_type": "code",
      "execution_count": 61,
      "metadata": {
        "id": "SqKqXWGdFK9u",
        "outputId": "3510dab9-3d03-429d-8e42-1c045168ee4e",
        "colab": {
          "base_uri": "https://localhost:8080/"
        }
      },
      "outputs": [
        {
          "output_type": "stream",
          "name": "stdout",
          "text": [
            "Matrix created using the diag method:\n",
            " [[0 0 0 0 0]\n",
            " [0 1 0 0 0]\n",
            " [0 0 2 0 0]\n",
            " [0 0 0 3 0]\n",
            " [0 0 0 0 4]]\n"
          ]
        }
      ],
      "source": [
        "matrix = np.diag(np.arange(5))\n",
        "print(\"Matrix created using the diag method:\\n\", matrix)\n"
      ]
    },
    {
      "cell_type": "markdown",
      "metadata": {
        "id": "uUYhNkTJFK9u"
      },
      "source": [
        "13. ნორმალიზება გაუკეთეთ 5x5 შემთხვევით მატრიცას. გამოიყენეთ rand, max, min მეთოდები და ნორმალიზების ფორმულა:\n",
        " ```python\n",
        "Z = (Z - Zmin)/(Zmax - Zmin)\n",
        " ```\n"
      ]
    },
    {
      "cell_type": "code",
      "execution_count": 62,
      "metadata": {
        "id": "29aHdC6GFK9u",
        "outputId": "29b20c88-3dc4-4512-c782-8675311ac8a3",
        "colab": {
          "base_uri": "https://localhost:8080/"
        }
      },
      "outputs": [
        {
          "output_type": "stream",
          "name": "stdout",
          "text": [
            "Normalized random matrix:\n",
            " [[0.72225231 0.24403302 0.18501202 0.62307396 0.66695091]\n",
            " [0.206496   0.78150237 0.83160634 0.71173629 1.        ]\n",
            " [0.         0.2240963  0.375554   0.69464859 0.23009798]\n",
            " [0.15672972 0.6179526  0.0911885  0.37855449 0.11456865]\n",
            " [0.31095389 0.9071308  0.23761659 0.33665968 0.4531841 ]]\n"
          ]
        }
      ],
      "source": [
        "random_matrix = np.random.rand(5, 5)\n",
        "normalized_matrix = (random_matrix - random_matrix.min()) / (random_matrix.max() - random_matrix.min())\n",
        "print(\"Normalized random matrix:\\n\", normalized_matrix)\n"
      ]
    },
    {
      "cell_type": "markdown",
      "metadata": {
        "id": "nPVRKdM5FK9u"
      },
      "source": [
        "14. გაამრავლეთ 5x3 მატრიცა 3x2 მატრიცაზე (მატრიცულად)\n"
      ]
    },
    {
      "cell_type": "code",
      "execution_count": 63,
      "metadata": {
        "id": "XYaSxEHYFK9u",
        "outputId": "f8dc81e2-3e3a-4a5c-9a00-50ccc62b9f82",
        "colab": {
          "base_uri": "https://localhost:8080/"
        }
      },
      "outputs": [
        {
          "output_type": "stream",
          "name": "stdout",
          "text": [
            "Result of matrix multiplication:\n",
            " [[0.68278285 0.7194311 ]\n",
            " [0.47297664 0.66582118]\n",
            " [0.21762056 0.28033831]\n",
            " [0.65357288 1.05134855]\n",
            " [0.22715238 0.19273563]]\n"
          ]
        }
      ],
      "source": [
        "matrix1 = np.random.rand(5, 3)\n",
        "matrix2 = np.random.rand(3, 2)\n",
        "result = np.dot(matrix1, matrix2)\n",
        "print(\"Result of matrix multiplication:\\n\", result)"
      ]
    },
    {
      "cell_type": "markdown",
      "metadata": {
        "id": "reaQLQy-FK9u"
      },
      "source": [
        "15. მოცემული 1D მასივისთვის, ახალი ობიექტის შეუქმნელად, უარყოფითი გახადეთ ყველა ელემენტი, რომელიც 3-სა და 8-ს შორისაა"
      ]
    },
    {
      "cell_type": "code",
      "execution_count": 64,
      "metadata": {
        "id": "qk4mSHdDFK9u",
        "outputId": "f5e78d3b-e2d1-42cc-8e66-ca8c96fd9545",
        "colab": {
          "base_uri": "https://localhost:8080/"
        }
      },
      "outputs": [
        {
          "output_type": "stream",
          "name": "stdout",
          "text": [
            "Modified array: [ 1 -4 -6 -8 10 -3  2 -7 -5  9]\n"
          ]
        }
      ],
      "source": [
        "arr = np.array([1, 4, 6, 8, 10, 3, 2, 7, 5, 9])\n",
        "arr[(arr >= 3) & (arr <= 8)] *= -1\n",
        "print(\"Modified array:\", arr)\n"
      ]
    },
    {
      "cell_type": "markdown",
      "source": [],
      "metadata": {
        "id": "PVGvIGRALqeu"
      }
    },
    {
      "cell_type": "markdown",
      "metadata": {
        "id": "q9lorfUqFK9u"
      },
      "source": [
        " 16. იპოვეთ საერთო მნიშვნელობები ორ მასივს შორის\n",
        " ```python\n",
        " Z1 = np.random.randint(0,10,10)\n",
        " Z2 = np.random.randint(0,10,10)\n",
        " ```\n"
      ]
    },
    {
      "cell_type": "code",
      "execution_count": 65,
      "metadata": {
        "id": "G3cD7TL4FK9v",
        "outputId": "9a6fe76d-2a90-4969-ec58-4701c6adf202",
        "colab": {
          "base_uri": "https://localhost:8080/"
        }
      },
      "outputs": [
        {
          "output_type": "stream",
          "name": "stdout",
          "text": [
            "Common values between Z1 and Z2: [0 2 8 9]\n"
          ]
        }
      ],
      "source": [
        "Z1 = np.random.randint(0, 10, 10)\n",
        "Z2 = np.random.randint(0, 10, 10)\n",
        "common_values = np.intersect1d(Z1, Z2)\n",
        "print(\"Common values between Z1 and Z2:\", common_values)\n"
      ]
    },
    {
      "cell_type": "markdown",
      "metadata": {
        "id": "ylmyeFZxFK9v"
      },
      "source": [
        "17. შექმენით 5x5 ნულოვანი მატრიცა\n",
        " ```python\n",
        " Z = np.zeros((5,5))\n",
        " ```\n",
        " ობიექტის შეუცვლელად გარდაქმენით (transform in-place) ისეთ მატრიცად, რომლის სტრიქონების მნიშვნელობებიც მერყეობს 0-დან 4-მდე"
      ]
    },
    {
      "cell_type": "code",
      "execution_count": 66,
      "metadata": {
        "id": "fyPL09psFK9v",
        "outputId": "ad17b429-fb6c-4f6b-8e40-3b99968ed724",
        "colab": {
          "base_uri": "https://localhost:8080/"
        }
      },
      "outputs": [
        {
          "output_type": "stream",
          "name": "stdout",
          "text": [
            "Transformed matrix:\n",
            " [[0. 1. 2. 3. 4.]\n",
            " [0. 1. 2. 3. 4.]\n",
            " [0. 1. 2. 3. 4.]\n",
            " [0. 1. 2. 3. 4.]\n",
            " [0. 1. 2. 3. 4.]]\n"
          ]
        }
      ],
      "source": [
        "Z = np.zeros((5, 5))\n",
        "Z += np.arange(5)\n",
        "print(\"Transformed matrix:\\n\", Z)"
      ]
    },
    {
      "cell_type": "markdown",
      "metadata": {
        "id": "v-dWexH0FK9v"
      },
      "source": [
        "18. არის თუ არა შემდეგი გამოსახულება ჭეშმარიტი? პასუხი დაასაბუთეთ.\n",
        " ```python\n",
        " np.sqrt(-1) == np.emath.sqrt(-1)\n",
        " ```\n"
      ]
    },
    {
      "cell_type": "code",
      "execution_count": 67,
      "metadata": {
        "id": "k5O0vEXNFK9v",
        "outputId": "c3b5b97c-2ff3-412a-db2c-fa846da09192",
        "colab": {
          "base_uri": "https://localhost:8080/"
        }
      },
      "outputs": [
        {
          "output_type": "stream",
          "name": "stderr",
          "text": [
            "<ipython-input-67-16339fbc685e>:1: RuntimeWarning: invalid value encountered in sqrt\n",
            "  np.sqrt(-1) == np.emath.sqrt(-1)\n"
          ]
        },
        {
          "output_type": "execute_result",
          "data": {
            "text/plain": [
              "False"
            ]
          },
          "metadata": {},
          "execution_count": 67
        }
      ],
      "source": [
        "np.sqrt(-1) == np.emath.sqrt(-1)\n",
        "False"
      ]
    },
    {
      "cell_type": "markdown",
      "metadata": {
        "id": "byENEP4DFK9v"
      },
      "source": [
        "19. მიიღეთ გუშინდელი, დღევანდელი და ხვალინდელი თარიღები. გამოიყენეთ `datetime64` და `timedelta64` მეთოდები"
      ]
    },
    {
      "cell_type": "code",
      "execution_count": 68,
      "metadata": {
        "id": "9qJhDIymFK9v",
        "outputId": "a9c99f66-e462-4cf3-8927-13272e1f9ef1",
        "colab": {
          "base_uri": "https://localhost:8080/"
        }
      },
      "outputs": [
        {
          "output_type": "stream",
          "name": "stdout",
          "text": [
            "Yesterday's date: 2024-03-28\n",
            "Today's date: 2024-03-29\n",
            "Tomorrow's date: 2024-03-30\n"
          ]
        }
      ],
      "source": [
        "today = np.datetime64('today')\n",
        "yesterday = today - np.timedelta64(1, 'D')\n",
        "tomorrow = today + np.timedelta64(1, 'D')\n",
        "print(\"Yesterday's date:\", yesterday)\n",
        "print(\"Today's date:\", today)\n",
        "print(\"Tomorrow's date:\", tomorrow)"
      ]
    },
    {
      "cell_type": "markdown",
      "metadata": {
        "id": "rx7pwQK1FK9v"
      },
      "source": [
        "20. შექმენით მასივი, რომლის ელემენტებიც იქნება 2016 წლის ივლისის ყველა დღე. გამოიყენეთ `arange` მეთოდი და მონაცემთა ტიპი `'datetime64[D]'`"
      ]
    },
    {
      "cell_type": "code",
      "execution_count": 69,
      "metadata": {
        "id": "Zy7JC1DJFK9v",
        "outputId": "23320672-ef4f-42aa-a37d-ba9fec1bcccc",
        "colab": {
          "base_uri": "https://localhost:8080/"
        }
      },
      "outputs": [
        {
          "output_type": "stream",
          "name": "stdout",
          "text": [
            "Days of July 2016:\n",
            " ['2016-07-01' '2016-07-02' '2016-07-03' '2016-07-04' '2016-07-05'\n",
            " '2016-07-06' '2016-07-07' '2016-07-08' '2016-07-09' '2016-07-10'\n",
            " '2016-07-11' '2016-07-12' '2016-07-13' '2016-07-14' '2016-07-15'\n",
            " '2016-07-16' '2016-07-17' '2016-07-18' '2016-07-19' '2016-07-20'\n",
            " '2016-07-21' '2016-07-22' '2016-07-23' '2016-07-24' '2016-07-25'\n",
            " '2016-07-26' '2016-07-27' '2016-07-28' '2016-07-29' '2016-07-30'\n",
            " '2016-07-31']\n"
          ]
        }
      ],
      "source": [
        "days_of_july_2016 = np.arange('2016-07', '2016-08', dtype='datetime64[D]')\n",
        "print(\"Days of July 2016:\\n\", days_of_july_2016)"
      ]
    },
    {
      "cell_type": "markdown",
      "metadata": {
        "id": "AZ5wgaFFFK9v"
      },
      "source": [
        "21. შექმენით 2D მასივი და ამოიღებთ მხოლოდ კენტი სვეტები"
      ]
    },
    {
      "cell_type": "code",
      "execution_count": 70,
      "metadata": {
        "id": "ceFb12_3FK9v",
        "outputId": "20232b03-2517-42de-9e27-f0d6ba48680f",
        "colab": {
          "base_uri": "https://localhost:8080/"
        }
      },
      "outputs": [
        {
          "output_type": "stream",
          "name": "stdout",
          "text": [
            "2D array with only even columns:\n",
            " [[1 3]\n",
            " [4 6]\n",
            " [7 9]]\n"
          ]
        }
      ],
      "source": [
        "arr_2d = np.array([[1, 2, 3],\n",
        "                    [4, 5, 6],\n",
        "                    [7, 8, 9]])\n",
        "\n",
        "arr_even_columns = arr_2d[:, ::2]\n",
        "print(\"2D array with only even columns:\\n\", arr_even_columns)\n"
      ]
    },
    {
      "cell_type": "markdown",
      "metadata": {
        "id": "6pkY-O1SFK9v"
      },
      "source": [
        "22. გამოთვალეთ 2D მასივის საშუალო მნიშვნელობა.\n"
      ]
    },
    {
      "cell_type": "code",
      "execution_count": 71,
      "metadata": {
        "id": "lLFwsgY0FK9w",
        "outputId": "263fe26b-7af8-4aa1-d2be-daaa7f253017",
        "colab": {
          "base_uri": "https://localhost:8080/"
        }
      },
      "outputs": [
        {
          "output_type": "stream",
          "name": "stdout",
          "text": [
            "Mean value of the 2D array: 5.0\n"
          ]
        }
      ],
      "source": [
        "mean_value = np.mean(arr_2d)\n",
        "print(\"Mean value of the 2D array:\", mean_value)"
      ]
    },
    {
      "cell_type": "markdown",
      "metadata": {
        "id": "ZELRDRJiFK9w"
      },
      "source": [
        "\n",
        "23. შექმენით ორი 2D მასივი და გაამრავლეთ მათი შესაბამისი ელემენტები.\n",
        "\n",
        "```python\n",
        "import numpy as np\n",
        "\n",
        "# შევქმნათ ორი 2D მასივი\n",
        "arr1 =\n",
        "arr2 =\n",
        "\n",
        "# გავამრავლოთ მასივების ელემენტები ერთმანეთზე\n",
        "result =\n",
        "print(result)\n",
        "```\n"
      ]
    },
    {
      "cell_type": "code",
      "execution_count": 72,
      "metadata": {
        "id": "EzJpI3zJFK9w",
        "outputId": "58aa2b4f-573f-4971-abd8-b7f3e8d2c12b",
        "colab": {
          "base_uri": "https://localhost:8080/"
        }
      },
      "outputs": [
        {
          "output_type": "stream",
          "name": "stdout",
          "text": [
            "Result of element-wise multiplication:\n",
            " [[ 5 12]\n",
            " [21 32]]\n"
          ]
        }
      ],
      "source": [
        "arr1 = np.array([[1, 2],\n",
        "                 [3, 4]])\n",
        "arr2 = np.array([[5, 6],\n",
        "                 [7, 8]])\n",
        "result = arr1 * arr2\n",
        "print(\"Result of element-wise multiplication:\\n\", result)"
      ]
    },
    {
      "cell_type": "markdown",
      "metadata": {
        "id": "O0tp4UDYFK9w"
      },
      "source": [
        "24. შექმენით 2D მასივი და დაადგინეთ, არის თუ არა რომელიმე ელემენტი 10-ზე მეტი"
      ]
    },
    {
      "cell_type": "code",
      "execution_count": 80,
      "metadata": {
        "id": "NHZe6ERWFK9w",
        "outputId": "811a9ec9-41ac-42a3-848a-9aabedbf8852",
        "colab": {
          "base_uri": "https://localhost:8080/"
        }
      },
      "outputs": [
        {
          "output_type": "stream",
          "name": "stdout",
          "text": [
            "Are there any elements greater than 10 in the array? False\n"
          ]
        }
      ],
      "source": [
        "arr = np.array([[1, 2, 3],\n",
        "                 [4, 5, 6],\n",
        "                 [7, 8, 9]])\n",
        "is_greater_than_10 = np.any(arr > 10)\n",
        "print(\"Are there any elements greater than 10 in the array?\", is_greater_than_10)\n"
      ]
    },
    {
      "cell_type": "markdown",
      "metadata": {
        "id": "YKXwG4PtFK9w"
      },
      "source": [
        "\n",
        "25. შექმენით 2D მასივი და დაითვალეთ თითოეული სვეტის საშუალო მნიშვნელობა"
      ]
    },
    {
      "cell_type": "code",
      "execution_count": 79,
      "metadata": {
        "id": "AqNj6T0lFK9w",
        "outputId": "15dfa7e1-d2a6-4180-ac9e-44cdce5f3e66",
        "colab": {
          "base_uri": "https://localhost:8080/"
        }
      },
      "outputs": [
        {
          "output_type": "stream",
          "name": "stdout",
          "text": [
            "Mean value of each column: [4. 5. 6.]\n"
          ]
        }
      ],
      "source": [
        "arr = np.array([[1, 2, 3],\n",
        "                 [4, 5, 6],\n",
        "                 [7, 8, 9]])\n",
        "mean_values = np.mean(arr, axis=0)\n",
        "print(\"Mean value of each column:\", mean_values)"
      ]
    },
    {
      "cell_type": "markdown",
      "metadata": {
        "id": "tWuWa2ZfFK9w"
      },
      "source": [
        "\n",
        "26. შექმენით 2D მასივი და დაბეჭდეთ ის სტრიქონები, რომელთა ერთი ელემენტი მაინც მეტია 5-ზე. გამოიყენეთ `any` მეთოდი და `axis` ოფცია."
      ]
    },
    {
      "cell_type": "code",
      "execution_count": 78,
      "metadata": {
        "id": "92hXcS3QFK9w",
        "outputId": "9542fb97-9f40-4ade-fec5-d2dba2bd2a10",
        "colab": {
          "base_uri": "https://localhost:8080/"
        }
      },
      "outputs": [
        {
          "output_type": "stream",
          "name": "stdout",
          "text": [
            "Strings with at least one element greater than 5:\n",
            " [['d' 'e' 'f']\n",
            " ['g' 'h' 'i']]\n"
          ]
        }
      ],
      "source": [
        "arr = np.array([['a', 'b', 'c'],\n",
        "                 ['d', 'e', 'f'],\n",
        "                 ['g', 'h', 'i']])\n",
        "strings_with_elements_greater_than_5 = arr[np.any(arr2 > 5, axis=1)]\n",
        "print(\"Strings with at least one element greater than 5:\\n\", strings_with_elements_greater_than_5)\n"
      ]
    },
    {
      "cell_type": "markdown",
      "metadata": {
        "id": "3mjebuszFK9w"
      },
      "source": [
        "27. გამოთვალეთ 2D მასივის სტანდარტული გადახრა.\n",
        "ამოხსნა:\n",
        "```python\n",
        "# შევქმნათ 2D მასივი\n",
        "arr =\n",
        "# გამოვთვალოთ მასივის სტანდარტული გადახრა\n",
        "std_dev =\n",
        "print(\"სტანდარტული გადახრა:\", std_dev)\n",
        "```"
      ]
    },
    {
      "cell_type": "code",
      "execution_count": 77,
      "metadata": {
        "id": "wqET8dLDFK9x",
        "outputId": "c4c9c843-0aff-491f-f0a7-64aea267e636",
        "colab": {
          "base_uri": "https://localhost:8080/"
        }
      },
      "outputs": [
        {
          "output_type": "stream",
          "name": "stdout",
          "text": [
            "Standard Deviation: 2.581988897471611\n"
          ]
        }
      ],
      "source": [
        "arr = np.array([[1, 2, 3],\n",
        "                 [4, 5, 6],\n",
        "                 [7, 8, 9]])\n",
        "std_dev = np.std(arr)\n",
        "print(\"Standard Deviation:\", std_dev)"
      ]
    },
    {
      "cell_type": "markdown",
      "metadata": {
        "id": "pzhoxHIaFK9x"
      },
      "source": [
        "28. შექმენით 2D მასივი და შეამოწმეთ, არის თუ არა ყველა ელემენტი დადებითი. გამოიყენეთ `all` მეთოდი. პასუხი დააბეჭდინეთ"
      ]
    },
    {
      "cell_type": "code",
      "execution_count": 84,
      "metadata": {
        "id": "m7xos3HtFK9x",
        "outputId": "26266698-bb8e-4297-b4c9-b6eb4b4a84ac",
        "colab": {
          "base_uri": "https://localhost:8080/"
        }
      },
      "outputs": [
        {
          "output_type": "stream",
          "name": "stdout",
          "text": [
            "Are all elements positive in the array? True\n"
          ]
        }
      ],
      "source": [
        "arr = np.array([[1, 2, 3],\n",
        "                 [4, 5, 6],\n",
        "                 [7, 8, 9]])\n",
        "all_positive = np.all(arr > 0)\n",
        "print(\"Are all elements positive in the array?\", all_positive)"
      ]
    },
    {
      "cell_type": "markdown",
      "metadata": {
        "id": "2nfgAvcYFK9x"
      },
      "source": [
        "\n",
        "29. შექმენით 2D მასივი და დათვალეთ თითოეული სტრიქონის მაქსიმალური მნიშვნელობა."
      ]
    },
    {
      "cell_type": "code",
      "execution_count": 85,
      "metadata": {
        "id": "cT3amlLWFK9x",
        "outputId": "0d2c0c28-5139-4c05-f07a-601bff0155b3",
        "colab": {
          "base_uri": "https://localhost:8080/"
        }
      },
      "outputs": [
        {
          "output_type": "stream",
          "name": "stdout",
          "text": [
            "Maximum value of each row: [3 6 9]\n"
          ]
        }
      ],
      "source": [
        "arr = np.array([[1, 2, 3],\n",
        "                 [4, 5, 6],\n",
        "                 [7, 8, 9]])\n",
        "max_values_row = np.max(arr, axis=1)\n",
        "print(\"Maximum value of each row:\", max_values_row)"
      ]
    },
    {
      "cell_type": "markdown",
      "metadata": {
        "id": "rXmRBwDlFK9x"
      },
      "source": [
        "\n",
        "30. შექმენით 2D მასივი და გაანულეთ ყველა ელემენტი, რომელიც 5-ზე ნაკლებია.\n"
      ]
    },
    {
      "cell_type": "code",
      "execution_count": 86,
      "metadata": {
        "id": "gXrR8rz0FK9x",
        "outputId": "3944cee0-c6e1-4328-d341-f001b49746cc",
        "colab": {
          "base_uri": "https://localhost:8080/"
        }
      },
      "outputs": [
        {
          "output_type": "stream",
          "name": "stdout",
          "text": [
            "Array with elements greater than or equal to 5:\n",
            " [5 6 7 8 9]\n"
          ]
        }
      ],
      "source": [
        "arr = np.array([[1, 2, 3],\n",
        "                 [4, 5, 6],\n",
        "                 [7, 8, 9]])\n",
        "arr = arr[arr >= 5]\n",
        "print(\"Array with elements greater than or equal to 5:\\n\", arr)"
      ]
    }
  ],
  "metadata": {
    "colab": {
      "provenance": [],
      "include_colab_link": true
    },
    "kernelspec": {
      "display_name": "Python 3",
      "name": "python3"
    },
    "language_info": {
      "codemirror_mode": {
        "name": "ipython",
        "version": 3
      },
      "file_extension": ".py",
      "mimetype": "text/x-python",
      "name": "python",
      "nbconvert_exporter": "python",
      "pygments_lexer": "ipython3",
      "version": "3.10.13"
    }
  },
  "nbformat": 4,
  "nbformat_minor": 0
}